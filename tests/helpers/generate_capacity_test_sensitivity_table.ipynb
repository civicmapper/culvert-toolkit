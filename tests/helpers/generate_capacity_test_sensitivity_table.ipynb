{
 "cells": [
  {
   "attachments": {},
   "cell_type": "markdown",
   "metadata": {},
   "source": [
    "# Generate Capacity Test Parameters\n",
    "\n",
    "Generate a list of parameters from sample NAACC data in a format we can use for testing the capacity calculator with PyTest. "
   ]
  },
  {
   "cell_type": "code",
   "execution_count": 1,
   "metadata": {},
   "outputs": [],
   "source": [
    "from pathlib import Path\n",
    "import petl as etl"
   ]
  },
  {
   "cell_type": "code",
   "execution_count": 14,
   "metadata": {},
   "outputs": [],
   "source": [
    "TESTS_DATA_ROOT = r\"C:\\Users\\chris\\dev\\drainage\\culvert-toolkit\\tests\\data\"\n",
    "TEST_DATA_CSV = Path(TESTS_DATA_ROOT) / \"culverts\" / \"test_naacc_sample.csv\"\n",
    "OUTPUT_CSV = Path(TESTS_DATA_ROOT) / \"culverts\" / \"test_naacc_sample_sensitivity_testing.csv\""
   ]
  },
  {
   "cell_type": "code",
   "execution_count": 26,
   "metadata": {},
   "outputs": [
    {
     "name": "stdout",
     "output_type": "stream",
     "text": [
      "['Naacc_Culvert_Id', 'Survey_Id', 'GIS_Latitude', 'GIS_Longitude', 'Number_Of_Culverts', 'Crossing_Type', 'Crossing_Comment', 'Crossing_Structure_Length', 'Inlet_Type', 'Inlet_Structure_Type', 'Inlet_Width', 'Inlet_Height', 'Material', 'Outlet_Structure_Type', 'Outlet_Width', 'Outlet_Height', 'Road_Fill_Height', 'Slope_Percent']\n"
     ]
    }
   ],
   "source": [
    "NAACC_HEADER_XWALK = [\n",
    "    {'field_idx': 11, 'field_name': 'Crossing_Type', 'field_short': 'xing_type'},\n",
    "    {'field_idx': 8,  'field_name': 'Crossing_Comment', 'field_short': 'comments'},\n",
    "    {'field_idx': 39, 'field_name': 'Crossing_Structure_Length', 'field_short': 'length', 'field_type': float},\n",
    "    {'field_idx': 22, 'field_name': 'Inlet_Type', 'field_short': 'in_type'},\n",
    "    {'field_idx': 44, 'field_name': 'Inlet_Structure_Type', 'field_short': 'in_shape'},\n",
    "    {'field_idx': 47, 'field_name': 'Inlet_Width', 'field_short': 'in_a', 'field_type': float},\n",
    "    {'field_idx': 43, 'field_name': 'Inlet_Height', 'field_short': 'in_b', 'field_type': float},\n",
    "    {'field_idx': 49, 'field_name': 'Material', 'field_short': 'culv_mat'},\n",
    "    {'field_idx': 55, 'field_name': 'Outlet_Structure_Type', 'field_short': 'out_shape'},\n",
    "    {'field_idx': 58, 'field_name': 'Outlet_Width', 'field_short': 'out_a', 'field_type': float},\n",
    "    {'field_idx': 54, 'field_name': 'Outlet_Height', 'field_short': 'out_b', 'field_type': float},\n",
    "    {'field_idx': 27, 'field_name': 'Road_Fill_Height', 'field_short': 'hw', 'field_type': float},\n",
    "    {'field_idx': 61, 'field_name': 'Slope_Percent', 'field_short': 'slope', 'field_type': float}\n",
    "]\n",
    "\n",
    "data_fields = [f['field_name'] for f in NAACC_HEADER_XWALK]\n",
    "all_fields = [\"Naacc_Culvert_Id\", \"Survey_Id\", \"GIS_Latitude\", \"GIS_Longitude\", \"Number_Of_Culverts\"]\n",
    "\n",
    "all_fields.extend(data_fields)\n",
    "print(all_fields)"
   ]
  },
  {
   "cell_type": "code",
   "execution_count": 28,
   "metadata": {},
   "outputs": [],
   "source": [
    "t = etl\\\n",
    "    .fromcsv(TEST_DATA_CSV)\\\n",
    "    .cut(*all_fields)\\\n",
    "    .selectne('Naacc_Culvert_Id', \"\")\\\n",
    "    .tocsv(OUTPUT_CSV)"
   ]
  },
  {
   "cell_type": "code",
   "execution_count": null,
   "metadata": {},
   "outputs": [],
   "source": []
  }
 ],
 "metadata": {
  "kernelspec": {
   "display_name": "culvert-toolkit",
   "language": "python",
   "name": "python3"
  },
  "language_info": {
   "codemirror_mode": {
    "name": "ipython",
    "version": 3
   },
   "file_extension": ".py",
   "mimetype": "text/x-python",
   "name": "python",
   "nbconvert_exporter": "python",
   "pygments_lexer": "ipython3",
   "version": "3.9.11"
  },
  "orig_nbformat": 4,
  "vscode": {
   "interpreter": {
    "hash": "08a9661438110e346f01fa824ce469efa233d138560eb8a97c757677cf6e9267"
   }
  }
 },
 "nbformat": 4,
 "nbformat_minor": 2
}
