{
 "cells": [
  {
   "attachments": {},
   "cell_type": "markdown",
   "metadata": {},
   "source": [
    "# Generate Capacity Test Parameters\n",
    "\n",
    "Generate a list of parameters from sample NAACC data in a format we can use for testing the capacity calculator with PyTest. "
   ]
  },
  {
   "cell_type": "code",
   "execution_count": 9,
   "metadata": {},
   "outputs": [],
   "source": [
    "from pathlib import Path\n",
    "import petl as etl"
   ]
  },
  {
   "cell_type": "code",
   "execution_count": 10,
   "metadata": {},
   "outputs": [],
   "source": [
    "TESTS_DATA_ROOT = r\"C:\\Users\\chris\\dev\\drainage\\culvert-toolkit\\tests\\data\"\n",
    "TEST_DATA_CSV = Path(TESTS_DATA_ROOT) / \"culverts\" / \"naacc_points.csv\""
   ]
  },
  {
   "cell_type": "code",
   "execution_count": 41,
   "metadata": {},
   "outputs": [],
   "source": [
    "t = etl.fromcsv(TEST_DATA_CSV).convert('include', lambda v: True if v == \"True\" else False)"
   ]
  },
  {
   "cell_type": "code",
   "execution_count": 13,
   "metadata": {},
   "outputs": [],
   "source": [
    "test_fields = [\n",
    "    'culvert_area_sqm', \n",
    "    'head_over_invert', \n",
    "    'culvert_depth_m', \n",
    "    'slope_rr', \n",
    "    'coefficient_slope', \n",
    "    'coefficient_y', \n",
    "    'coefficient_c'\n",
    "]"
   ]
  },
  {
   "cell_type": "code",
   "execution_count": 40,
   "metadata": {},
   "outputs": [
    {
     "name": "stdout",
     "output_type": "stream",
     "text": [
      "culvert_area_sqm, head_over_invert, culvert_depth_m, slope_rr, coefficient_slope, coefficient_y, coefficient_c\n"
     ]
    }
   ],
   "source": [
    "print(\", \".join(test_fields))"
   ]
  },
  {
   "cell_type": "code",
   "execution_count": 39,
   "metadata": {},
   "outputs": [
    {
     "name": "stdout",
     "output_type": "stream",
     "text": [
      "[[4.682, 2.225, 1.92, 0.009, -0.5, 0.87, 0.038], [4.682, 2.225, 1.92, 0.01, -0.5, 0.87, 0.038], [0.164, 0.914, 0.457, 0.006, -0.5, 0.54, 0.055], [0.353, 1.89, 0.671, 0.07, -0.5, 0.69, 0.032], [5.017, 2.438, 1.372, 0.003, -0.5, 0.87, 0.038]]\n"
     ]
    }
   ],
   "source": [
    "test_params = []\n",
    "for row in etl.dicts(t):\n",
    "    if row['include']:\n",
    "        test_params.append([round(float(row[f]),3) for f in test_fields])\n",
    "print(test_params)"
   ]
  },
  {
   "cell_type": "code",
   "execution_count": null,
   "metadata": {},
   "outputs": [],
   "source": []
  }
 ],
 "metadata": {
  "kernelspec": {
   "display_name": "culvert-toolkit",
   "language": "python",
   "name": "python3"
  },
  "language_info": {
   "codemirror_mode": {
    "name": "ipython",
    "version": 3
   },
   "file_extension": ".py",
   "mimetype": "text/x-python",
   "name": "python",
   "nbconvert_exporter": "python",
   "pygments_lexer": "ipython3",
   "version": "3.9.11"
  },
  "orig_nbformat": 4,
  "vscode": {
   "interpreter": {
    "hash": "08a9661438110e346f01fa824ce469efa233d138560eb8a97c757677cf6e9267"
   }
  }
 },
 "nbformat": 4,
 "nbformat_minor": 2
}
