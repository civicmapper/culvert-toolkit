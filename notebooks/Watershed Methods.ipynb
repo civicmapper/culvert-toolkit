{
 "cells": [
  {
   "cell_type": "markdown",
   "metadata": {},
   "source": [
    "# Watershed Delineation Methods\n",
    "\n",
    "Run delineations for both the \"series\" and \"parallel\" approaches."
   ]
  },
  {
   "cell_type": "code",
   "execution_count": 13,
   "metadata": {},
   "outputs": [],
   "source": [
    "from pathlib import Path\n",
    "\n",
    "from arcpy import FeatureSet\n",
    "from arcpy.management import MakeFeatureLayer, SelectLayerByAttribute, GetCount\n",
    "\n",
    "from arcpy.sa import Watershed\n",
    "from arcpy.sa import FlowLength\n",
    "from arcpy.sa import Raster\n",
    "\n",
    "from arcpy.da import SearchCursor\n",
    "\n",
    "from tqdm.notebook import tqdm\n",
    "\n",
    "#import arcgis"
   ]
  },
  {
   "cell_type": "code",
   "execution_count": 2,
   "metadata": {},
   "outputs": [],
   "source": [
    "wd = Path(r\"D:\\Dropbox (CivicMapper)\\Projects\\202004-02 Cornell Modeling\\3 - Production\\tool outputs\")\n",
    "\n",
    "inlets = wd / \"c19 tests\"  / \"c19_snapped_points.shp\"\n",
    "dem = wd / \"c19 tests\" / \"dem_clip_simple.tif\"\n",
    "fd = wd / \"c19 tests\" / \"dem_clip_simple_flowdir.tif\"\n",
    "\n",
    "pour_point_field = \"NAACC_ID\""
   ]
  },
  {
   "cell_type": "code",
   "execution_count": 3,
   "metadata": {},
   "outputs": [],
   "source": [
    "fs = FeatureSet(str(inlets))"
   ]
  },
  {
   "cell_type": "code",
   "execution_count": 4,
   "metadata": {},
   "outputs": [],
   "source": [
    "#w = Watershed(str(fd), str(inlets), pour_point_field)"
   ]
  },
  {
   "cell_type": "code",
   "execution_count": 5,
   "metadata": {},
   "outputs": [],
   "source": []
  },
  {
   "cell_type": "code",
   "execution_count": 6,
   "metadata": {},
   "outputs": [],
   "source": [
    "out_layer = \"inlets_layer\"\n",
    "fslyr = MakeFeatureLayer(\n",
    "    in_features=fs, \n",
    "    out_layer=out_layer\n",
    ")"
   ]
  },
  {
   "cell_type": "code",
   "execution_count": 17,
   "metadata": {},
   "outputs": [
    {
     "data": {
      "text/plain": [
       "'196'"
      ]
     },
     "execution_count": 17,
     "metadata": {},
     "output_type": "execute_result"
    }
   ],
   "source": [
    "int(GetCount(fs).getOutput(0))"
   ]
  },
  {
   "cell_type": "code",
   "execution_count": 30,
   "metadata": {
    "scrolled": true
   },
   "outputs": [
    {
     "data": {
      "application/vnd.jupyter.widget-view+json": {
       "model_id": "2736904029d8409f8db32f956ce0d084",
       "version_major": 2,
       "version_minor": 0
      },
      "text/plain": [
       "  0%|          | 0/196 [00:00<?, ?it/s]"
      ]
     },
     "metadata": {},
     "output_type": "display_data"
    }
   ],
   "source": [
    "sheds = []\n",
    "with SearchCursor(fs, [pour_point_field]) as sc:\n",
    "    for inlet in tqdm(sc, total=int(GetCount(fs).getOutput(0))):\n",
    "        #out_layer = \"inlet_{}\".format(inlet[0])\n",
    "        selected_inlet = SelectLayerByAttribute(\n",
    "            in_layer_or_view=fslyr,\n",
    "            selection_type='NEW_SELECTION',\n",
    "            where_clause=\"{0}= {1}\".format(pour_point_field, inlet[0])\n",
    "        )\n",
    "                \n",
    "        one_shed = Watershed(\n",
    "            in_flow_direction_raster=str(fd),\n",
    "            in_pour_point_data=selected_inlet,\n",
    "            pour_point_field=pour_point_field\n",
    "        )\n",
    "        sheds.append((inlet[0], one_shed))"
   ]
  },
  {
   "cell_type": "code",
   "execution_count": 31,
   "metadata": {},
   "outputs": [
    {
     "data": {
      "text/plain": [
       "(70978,\n",
       " D:\\Dropbox (CivicMapper)\\Projects\\202004-02 Cornell Modeling\\3 - Production\\tool outputs\\c19 tests\\Watersh_dem_cli3.tif)"
      ]
     },
     "execution_count": 31,
     "metadata": {},
     "output_type": "execute_result"
    }
   ],
   "source": [
    "sheds[0]"
   ]
  },
  {
   "cell_type": "code",
   "execution_count": null,
   "metadata": {},
   "outputs": [],
   "source": []
  }
 ],
 "metadata": {
  "kernelspec": {
   "display_name": "Python 3",
   "language": "python",
   "name": "python3"
  },
  "language_info": {
   "codemirror_mode": {
    "name": "ipython",
    "version": 3
   },
   "file_extension": ".py",
   "mimetype": "text/x-python",
   "name": "python",
   "nbconvert_exporter": "python",
   "pygments_lexer": "ipython3",
   "version": "3.7.9"
  }
 },
 "nbformat": 4,
 "nbformat_minor": 4
}
